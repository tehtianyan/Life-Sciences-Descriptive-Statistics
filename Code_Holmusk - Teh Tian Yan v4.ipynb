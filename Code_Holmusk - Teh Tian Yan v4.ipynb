{
 "cells": [
  {
   "cell_type": "markdown",
   "id": "7754903f",
   "metadata": {
    "id": "7754903f"
   },
   "source": [
    "# Goal: Find drivers of cost of care."
   ]
  },
  {
   "cell_type": "code",
   "execution_count": null,
   "id": "35bba501",
   "metadata": {
    "id": "35bba501"
   },
   "outputs": [],
   "source": [
    "!pip3 install dataprep"
   ]
  },
  {
   "cell_type": "code",
   "execution_count": null,
   "id": "87de5b31",
   "metadata": {
    "id": "87de5b31"
   },
   "outputs": [],
   "source": [
    "import numpy as np\n",
    "import pandas as pd\n",
    "import matplotlib.pyplot as plt\n",
    "import seaborn as sns\n",
    "import dataprep\n",
    "import statsmodels.api as sm\n",
    "\n",
    "from sklearn.model_selection import train_test_split\n",
    "from sklearn import metrics\n",
    "from statsmodels.formula.api import glm\n",
    "from statsmodels.stats.outliers_influence import variance_inflation_factor\n",
    "from dataprep.eda import create_report"
   ]
  },
  {
   "cell_type": "code",
   "execution_count": null,
   "id": "r-FegM6XYSx3",
   "metadata": {
    "id": "r-FegM6XYSx3"
   },
   "outputs": [],
   "source": [
    "rootdir = \"C:/Users/young/Dropbox/2 - Projects/Data Science/Holmusk/Healthcare Data Challenge Data/\""
   ]
  },
  {
   "cell_type": "code",
   "execution_count": null,
   "id": "a2112f75",
   "metadata": {
    "id": "a2112f75"
   },
   "outputs": [],
   "source": [
    "df_bill_amount = pd.read_csv(rootdir + \"bill_amount.csv\")\n",
    "df_bill = pd.read_csv(rootdir + \"bill_id.csv\")\n",
    "df_clinical_data = pd.read_csv(rootdir + \"clinical_data.csv\")\n",
    "df_demo = pd.read_csv(rootdir + \"demographics.csv\")"
   ]
  },
  {
   "cell_type": "code",
   "execution_count": null,
   "id": "66aa66d7",
   "metadata": {
    "id": "66aa66d7"
   },
   "outputs": [],
   "source": [
    "# Quicklook Function\n",
    "def ql(df, rows=5, part='head'):\n",
    "    \"\"\"\n",
    "    DataFrame Quicklook\n",
    "    \n",
    "    Prints shape of dataframe as well as top or bottom X rows.\n",
    "    Inputs:\n",
    "    - df  : dataframe\n",
    "    - rows: number of rows, default = 5\n",
    "    - part: \"head\" or \"tail\", default = \"head\"\n",
    "    \n",
    "    Outputs:\n",
    "    - top and bottom rows\n",
    "    \"\"\"\n",
    "    \n",
    "    # Print dataframe dimensions\n",
    "    print(df.shape)\n",
    "    \n",
    "    # Print top or bottom rows\n",
    "    if part != 'head':\n",
    "        return df.tail(rows)\n",
    "    else:\n",
    "        return df.head(rows)"
   ]
  },
  {
   "cell_type": "code",
   "execution_count": null,
   "id": "NQhaBR3x2M2O",
   "metadata": {
    "id": "NQhaBR3x2M2O"
   },
   "outputs": [],
   "source": [
    "# Initial merging\n",
    "df = pd.merge(df_bill, df_bill_amount)\n",
    "df = df.groupby([\"patient_id\", \"date_of_admission\"]).agg({\"amount\": 'sum'}).reset_index()\n",
    "df = pd.merge(df, df_clinical_data, left_on=[\"patient_id\", \"date_of_admission\"], right_on=[\"id\", \"date_of_admission\"], how=\"inner\")\n",
    "df = pd.merge(df, df_demo, left_on=\"patient_id\", right_on=\"patient_id\", how=\"left\")"
   ]
  },
  {
   "cell_type": "code",
   "execution_count": null,
   "id": "3bdf2177",
   "metadata": {},
   "outputs": [],
   "source": [
    "# Aggregated down by hospital visits. \n",
    "ql(df)"
   ]
  },
  {
   "cell_type": "code",
   "execution_count": null,
   "id": "-LRmqnR73vrA",
   "metadata": {
    "id": "-LRmqnR73vrA",
    "scrolled": true
   },
   "outputs": [],
   "source": [
    "create_report(df)"
   ]
  },
  {
   "cell_type": "markdown",
   "id": "gEYSVCJVeDgu",
   "metadata": {
    "id": "gEYSVCJVeDgu"
   },
   "source": [
    "# Descriptive statistics"
   ]
  },
  {
   "cell_type": "code",
   "execution_count": null,
   "id": "GDkhIpS2itJn",
   "metadata": {
    "id": "GDkhIpS2itJn"
   },
   "outputs": [],
   "source": [
    "df.info()"
   ]
  },
  {
   "cell_type": "code",
   "execution_count": null,
   "id": "I0lDWWRYix1J",
   "metadata": {
    "id": "I0lDWWRYix1J"
   },
   "outputs": [],
   "source": [
    "dates=['date_of_birth', 'date_of_admission', 'date_of_discharge']\n",
    "continuous_independent = ['weight', 'height',  'lab_result_1', 'lab_result_2',\n",
    "       'lab_result_3']\n",
    "continuous = ['weight', 'height',  'lab_result_1', 'lab_result_2',\n",
    "       'lab_result_3', 'amount']\n",
    "categorical = ['gender', 'race', 'resident_status', 'medical_history_1', 'medical_history_2', 'medical_history_3',\n",
    "       'medical_history_4', 'medical_history_5', 'medical_history_6',\n",
    "       'medical_history_7', 'preop_medication_1', 'preop_medication_2',\n",
    "       'preop_medication_3', 'preop_medication_4', 'preop_medication_5',\n",
    "       'preop_medication_6', 'symptom_1', 'symptom_2', 'symptom_3',\n",
    "       'symptom_4', 'symptom_5']\n",
    "descriptive = ['weight', 'height','medical_history_1', 'medical_history_2', 'medical_history_3',\n",
    "       'medical_history_4', 'medical_history_5', 'medical_history_6',\n",
    "       'medical_history_7', 'preop_medication_1', 'preop_medication_2',\n",
    "       'preop_medication_3', 'preop_medication_4', 'preop_medication_5',\n",
    "       'preop_medication_6', 'symptom_1', 'symptom_2', 'symptom_3',\n",
    "       'symptom_4', 'symptom_5','amount']"
   ]
  },
  {
   "cell_type": "code",
   "execution_count": null,
   "id": "d5c96719",
   "metadata": {},
   "outputs": [],
   "source": [
    "df[descriptive].describe()"
   ]
  },
  {
   "cell_type": "code",
   "execution_count": null,
   "id": "vuGQ1KMKd6KN",
   "metadata": {
    "id": "vuGQ1KMKd6KN"
   },
   "outputs": [],
   "source": [
    "df[descriptive].describe().to_csv(rootdir + \"descriptive_statistics.csv\")\n"
   ]
  },
  {
   "cell_type": "code",
   "execution_count": null,
   "id": "v7UNxdaknQeo",
   "metadata": {
    "id": "v7UNxdaknQeo"
   },
   "outputs": [],
   "source": [
    "plt.figure(figsize=(10, 8), dpi=80)\n",
    "sns.boxplot(data=df[continuous_independent], showfliers=True, palette=sns.color_palette(\"husl\", len(continuous_independent)+1))\n",
    "plt.show()"
   ]
  },
  {
   "cell_type": "markdown",
   "id": "XHWkepT9_coe",
   "metadata": {
    "id": "XHWkepT9_coe"
   },
   "source": [
    "# Data Cleansing"
   ]
  },
  {
   "cell_type": "code",
   "execution_count": null,
   "id": "0c40c3af",
   "metadata": {},
   "outputs": [],
   "source": [
    "df[\"date_of_admission\"] = pd.to_datetime(df[\"date_of_admission\"])\n",
    "df[\"date_of_admission\"] = pd.to_datetime(df[\"date_of_admission\"])\n",
    "df[\"date_of_discharge\"] = pd.to_datetime(df[\"date_of_discharge\"])\n",
    "df[\"date_of_birth\"] = pd.to_datetime(df[\"date_of_birth\"])\n",
    "\n",
    "df[\"medical_history_3\"].replace({\"Yes\": 1, \"No\": 0}, inplace=True)\n",
    "df[\"medical_history_3\"] = df[\"medical_history_3\"].astype(int)\n",
    "\n",
    "df[\"gender\"].replace({\"f\": \"Female\", \"m\": \"Male\"}, inplace=True)\n",
    "\n",
    "df[\"race\"].replace({\"India\": \"Indian\"}, inplace=True)\n",
    "df[\"race\"].replace({\"chinese\": \"Chinese\"}, inplace=True)\n",
    "\n",
    "df[\"resident_status\"].replace({\"Singapore citizen\": \"Singaporean\"}, inplace=True)"
   ]
  },
  {
   "cell_type": "code",
   "execution_count": null,
   "id": "661fe787",
   "metadata": {
    "scrolled": true
   },
   "outputs": [],
   "source": [
    "create_report(df)"
   ]
  },
  {
   "cell_type": "markdown",
   "id": "nZUiWdWC_qHq",
   "metadata": {
    "id": "nZUiWdWC_qHq"
   },
   "source": [
    "# Missing values\n",
    "\n",
    "Little's MCAR test for Python:\n",
    "https://www.kaggle.com/yassirarezki/handling-missing-data-mcar-mar-and-mnar-part-i"
   ]
  },
  {
   "cell_type": "code",
   "execution_count": null,
   "id": "SBl_MrGV_l39",
   "metadata": {
    "id": "SBl_MrGV_l39"
   },
   "outputs": [],
   "source": [
    "plt.figure(figsize=(10,8))\n",
    "sns.heatmap(df.isna().transpose(),\n",
    "            cmap=\"YlGnBu\",\n",
    "            cbar_kws={'label': 'Missing Data'})\n",
    "plt.savefig(\"visualizing_missing_data_with_heatmap_Seaborn_Python.png\", dpi=100)\n",
    "\n",
    "#Missing values + descriptive statistics after"
   ]
  },
  {
   "cell_type": "markdown",
   "id": "0daf5f4b",
   "metadata": {},
   "source": [
    "# Data Cleaning"
   ]
  },
  {
   "cell_type": "code",
   "execution_count": null,
   "id": "04a7c9f8",
   "metadata": {},
   "outputs": [],
   "source": [
    "#Start with \"medical_history_2\"\n",
    "df_medical_history_2_missing = df[df[\"medical_history_2\"].isnull()]\n",
    "df_medical_history_2_present = df[~df[\"medical_history_2\"].isnull()]\n",
    "\n",
    "print(\"# of missing medical_history_2:\", len(df_medical_history_2_missing))\n",
    "print(\"# of present medical_history_2:\", len(df_medical_history_2_present))\n",
    "print(\"% of missing medical_history_2:\", len(df_medical_history_2_missing) / len(df))"
   ]
  },
  {
   "cell_type": "code",
   "execution_count": null,
   "id": "4caa9023",
   "metadata": {},
   "outputs": [],
   "source": [
    "#53 of it can be found from existing records.\n",
    "print(\"# of missing medical_history_2 can be found in existing record:\", len(df_medical_history_2_missing[df_medical_history_2_missing[\"id\"].isin(df_medical_history_2_present[\"id\"])]) )\n",
    "\n",
    "#56 of it can be found in the existing records. Meaning there's duplicate values. \n",
    "print(\"# of missing record has more than 1 existing record:\", len(df_medical_history_2_present[df_medical_history_2_present[\"id\"].isin(df_medical_history_2_missing[\"id\"])]) )\n"
   ]
  },
  {
   "cell_type": "code",
   "execution_count": null,
   "id": "273296fc",
   "metadata": {},
   "outputs": [],
   "source": [
    "df_medical_2_present_to_be_imputed = df_medical_history_2_present[df_medical_history_2_present[\"id\"].isin(df_medical_history_2_missing[\"id\"])]\n",
    "df_medical_2_present_to_be_imputed.loc[df_medical_2_present_to_be_imputed.duplicated(subset=[\"id\"])]"
   ]
  },
  {
   "cell_type": "code",
   "execution_count": null,
   "id": "d1664ff3",
   "metadata": {},
   "outputs": [],
   "source": [
    "df_medical_2_present_to_be_imputed[df_medical_2_present_to_be_imputed[\"id\"]==\"0eacfb2daed1f3ba2adf32e293bc05a6\"]"
   ]
  },
  {
   "cell_type": "code",
   "execution_count": null,
   "id": "a4e78ab1",
   "metadata": {},
   "outputs": [],
   "source": [
    "#Find out the index\n",
    "df_medical_2_present_to_be_imputed.index[df_medical_2_present_to_be_imputed[\"id\"] == \"0eacfb2daed1f3ba2adf32e293bc05a6\"]"
   ]
  },
  {
   "cell_type": "code",
   "execution_count": null,
   "id": "efa338a6",
   "metadata": {},
   "outputs": [],
   "source": [
    "#Keep the record with medical_history_2 = 1\n",
    "df_medical_2_present_to_be_imputed.drop(202, inplace=True)"
   ]
  },
  {
   "cell_type": "code",
   "execution_count": null,
   "id": "f82ee485",
   "metadata": {},
   "outputs": [],
   "source": [
    "df_medical_2_present_to_be_imputed[df_medical_2_present_to_be_imputed[\"id\"]==\"cebd42e84733dae9898687cfb750fbaf\"]"
   ]
  },
  {
   "cell_type": "code",
   "execution_count": null,
   "id": "9be2c50e",
   "metadata": {},
   "outputs": [],
   "source": [
    "# Drop this so that it will not inflate the records during the merge later\n",
    "df_medical_2_present_to_be_imputed.drop([2732,2733], inplace=True)"
   ]
  },
  {
   "cell_type": "code",
   "execution_count": null,
   "id": "823ee02f",
   "metadata": {},
   "outputs": [],
   "source": [
    "df_medical_2_present_to_be_imputed[df_medical_2_present_to_be_imputed[\"id\"]==\"cebd42e84733dae9898687cfb750fbaf\"]"
   ]
  },
  {
   "cell_type": "code",
   "execution_count": null,
   "id": "a1a9e82f",
   "metadata": {},
   "outputs": [],
   "source": [
    "df_medical_2_present_to_be_imputed[df_medical_2_present_to_be_imputed[\"id\"]==\"5e9e8508e8098fc220a12db23c698ec6\"]"
   ]
  },
  {
   "cell_type": "code",
   "execution_count": null,
   "id": "9f1d4df1",
   "metadata": {},
   "outputs": [],
   "source": [
    "#Keep the record with medical_history_2 = 1\n",
    "df_medical_2_present_to_be_imputed.drop(1237, inplace=True)"
   ]
  },
  {
   "cell_type": "code",
   "execution_count": null,
   "id": "6788301a",
   "metadata": {},
   "outputs": [],
   "source": [
    "df_medical_2_present_to_be_imputed[df_medical_2_present_to_be_imputed[\"id\"]==\"5e9e8508e8098fc220a12db23c698ec6\"]"
   ]
  },
  {
   "cell_type": "code",
   "execution_count": null,
   "id": "1d945b77",
   "metadata": {},
   "outputs": [],
   "source": [
    "# Drop the ones with disagreement so that it can be imputed with 0.\n",
    "#df_medical_2_present_to_be_imputed = df_medical_2_present_to_be_imputed[~df_medical_2_present_to_be_imputed[\"id\"].isin([\"5e9e8508e8098fc220a12db23c698ec6\", \"0eacfb2daed1f3ba2adf32e293bc05a6\",\"cebd42e84733dae9898687cfb750fbaf\"])]\n",
    "\n",
    "# Replace the \"medical_history_2\" \n",
    "df_medical_history_2_missing_imputed = pd.merge(df_medical_history_2_missing.loc[:, df_medical_history_2_missing.columns != \"medical_history_2\"], df_medical_2_present_to_be_imputed[[\"id\", \"medical_history_2\"]], on=\"id\", how=\"left\")\n",
    "\n",
    "print(len(df_medical_history_2_missing_imputed))\n",
    "print(len(df_medical_history_2_missing_imputed[df_medical_history_2_missing_imputed[\"medical_history_2\"].isnull()]))"
   ]
  },
  {
   "cell_type": "code",
   "execution_count": null,
   "id": "cbe6bfcd",
   "metadata": {},
   "outputs": [],
   "source": [
    "df_2 = pd.concat( [df_medical_history_2_missing_imputed, df_medical_history_2_present], ignore_index = True)\n",
    "\n",
    "print(len(df_2))\n",
    "\n",
    "print(len( df_2[df_2[\"medical_history_2\"].isnull()] ))\n",
    "\n",
    "# Impute the rest with the modal class \"0\"\n",
    "df_2.fillna(value={\"medical_history_2\":0}, inplace=True)\n",
    "\n",
    "print(len( df_2[df_2[\"medical_history_2\"].isnull()] ))"
   ]
  },
  {
   "cell_type": "code",
   "execution_count": null,
   "id": "798c69d9",
   "metadata": {},
   "outputs": [],
   "source": [
    "#Start with \"medical_history_5\"\n",
    "\n",
    "df_medical_history_5_missing = df_2[df_2[\"medical_history_5\"].isnull()]\n",
    "df_medical_history_5_present = df_2[~df_2[\"medical_history_5\"].isnull()]\n",
    "\n",
    "print(\"# of missing medical_history_5:\", len(df_medical_history_5_missing))\n",
    "print(\"# of present medical_history_5:\", len(df_medical_history_5_present))\n",
    "print(\"% of missing medical_history_5:\", len(df_medical_history_5_missing) / len(df_2))\n"
   ]
  },
  {
   "cell_type": "code",
   "execution_count": null,
   "id": "80580f59",
   "metadata": {},
   "outputs": [],
   "source": [
    "#66 of it can be found from existing records.\n",
    "print(\"# of missing medical_history_5 can be found in existing record:\", len(df_medical_history_5_missing[df_medical_history_5_missing[\"id\"].isin(df_medical_history_5_present[\"id\"])]) )\n",
    "\n",
    "#72 of it can be found in the existing records. Meaning there's duplicate values. \n",
    "print(\"# of missing record has more than 1 existing record:\", len(df_medical_history_5_present[df_medical_history_5_present[\"id\"].isin(df_medical_history_5_missing[\"id\"])]) )\n",
    "\n",
    "df_medical_5_present_to_be_imputed = df_medical_history_5_present[df_medical_history_5_present[\"id\"].isin(df_medical_history_5_missing[\"id\"])]\n",
    "\n",
    "df_medical_5_present_to_be_imputed.loc[df_medical_5_present_to_be_imputed.duplicated(subset=[\"id\"])]"
   ]
  },
  {
   "cell_type": "code",
   "execution_count": null,
   "id": "3d13c5ac",
   "metadata": {},
   "outputs": [],
   "source": [
    "df_medical_5_present_to_be_imputed[df_medical_5_present_to_be_imputed[\"id\"]==\"b2d15cda8c4e1f86ba43356434df6718\"]"
   ]
  },
  {
   "cell_type": "code",
   "execution_count": null,
   "id": "b48e7abc",
   "metadata": {},
   "outputs": [],
   "source": [
    "#Keep the record with medical_history_5 = 1\n",
    "df_medical_5_present_to_be_imputed.drop(2407, inplace=True)"
   ]
  },
  {
   "cell_type": "code",
   "execution_count": null,
   "id": "00dfe7b1",
   "metadata": {},
   "outputs": [],
   "source": [
    "df_medical_5_present_to_be_imputed[df_medical_5_present_to_be_imputed[\"id\"]==\"b2d15cda8c4e1f86ba43356434df6718\"]"
   ]
  },
  {
   "cell_type": "code",
   "execution_count": null,
   "id": "f37a2678",
   "metadata": {},
   "outputs": [],
   "source": [
    "df_medical_5_present_to_be_imputed[df_medical_5_present_to_be_imputed[\"id\"]==\"d01386ff66ee5ecef47c5ef7980ff10a\"]"
   ]
  },
  {
   "cell_type": "code",
   "execution_count": null,
   "id": "ac674e28",
   "metadata": {},
   "outputs": [],
   "source": [
    "# Drop this so that it will not inflate the records during the merge later\n",
    "df_medical_5_present_to_be_imputed.drop([2787, 2788], inplace=True)"
   ]
  },
  {
   "cell_type": "code",
   "execution_count": null,
   "id": "51954cdf",
   "metadata": {},
   "outputs": [],
   "source": [
    "df_medical_5_present_to_be_imputed[df_medical_5_present_to_be_imputed[\"id\"]==\"d01386ff66ee5ecef47c5ef7980ff10a\"]"
   ]
  },
  {
   "cell_type": "code",
   "execution_count": null,
   "id": "ff728dc9",
   "metadata": {},
   "outputs": [],
   "source": [
    "df_medical_5_present_to_be_imputed[df_medical_5_present_to_be_imputed[\"id\"]==\"8239986dfdf8f4e0bb351ace4742ef95\"]"
   ]
  },
  {
   "cell_type": "code",
   "execution_count": null,
   "id": "805de4eb",
   "metadata": {},
   "outputs": [],
   "source": [
    "# Drop this so that it will not inflate the records during the merge later\n",
    "df_medical_5_present_to_be_imputed.drop([1797, 1798], inplace=True)"
   ]
  },
  {
   "cell_type": "code",
   "execution_count": null,
   "id": "5419eb54",
   "metadata": {},
   "outputs": [],
   "source": [
    "df_medical_5_present_to_be_imputed[df_medical_5_present_to_be_imputed[\"id\"]==\"8239986dfdf8f4e0bb351ace4742ef95\"]"
   ]
  },
  {
   "cell_type": "code",
   "execution_count": null,
   "id": "5181f8bf",
   "metadata": {},
   "outputs": [],
   "source": [
    "df_medical_5_present_to_be_imputed[df_medical_5_present_to_be_imputed[\"id\"]==\"0eacfb2daed1f3ba2adf32e293bc05a6\"]"
   ]
  },
  {
   "cell_type": "code",
   "execution_count": null,
   "id": "cab53cfb",
   "metadata": {},
   "outputs": [],
   "source": [
    "#Keep the record with medical_history_5 = 1\n",
    "df_medical_5_present_to_be_imputed.drop(423, inplace=True)"
   ]
  },
  {
   "cell_type": "code",
   "execution_count": null,
   "id": "349c2c6c",
   "metadata": {},
   "outputs": [],
   "source": [
    "df_medical_5_present_to_be_imputed[df_medical_5_present_to_be_imputed[\"id\"]==\"0eacfb2daed1f3ba2adf32e293bc05a6\"]"
   ]
  },
  {
   "cell_type": "code",
   "execution_count": null,
   "id": "ce93bd8e",
   "metadata": {},
   "outputs": [],
   "source": [
    "df_medical_5_present_to_be_imputed[df_medical_5_present_to_be_imputed[\"id\"]==\"e3270f450ee164e596ca933a25bab61d\"]"
   ]
  },
  {
   "cell_type": "code",
   "execution_count": null,
   "id": "b39904c9",
   "metadata": {},
   "outputs": [],
   "source": [
    "# Drop this so that it will not inflate the records during the merge later\n",
    "df_medical_5_present_to_be_imputed.drop([3031, 3032], inplace=True)\n",
    "\n",
    "df_medical_5_present_to_be_imputed[df_medical_5_present_to_be_imputed[\"id\"]==\"e3270f450ee164e596ca933a25bab61d\"]"
   ]
  },
  {
   "cell_type": "code",
   "execution_count": null,
   "id": "b87f1a47",
   "metadata": {},
   "outputs": [],
   "source": [
    "df_medical_5_present_to_be_imputed[df_medical_5_present_to_be_imputed[\"id\"]==\"cebd42e84733dae9898687cfb750fbaf\"]"
   ]
  },
  {
   "cell_type": "code",
   "execution_count": null,
   "id": "8d9cfadb",
   "metadata": {},
   "outputs": [],
   "source": [
    "# Drop this so that it will not inflate the records during the merge later\n",
    "df_medical_5_present_to_be_imputed.drop([193, 2771], inplace=True)\n",
    "\n",
    "df_medical_5_present_to_be_imputed[df_medical_5_present_to_be_imputed[\"id\"]==\"cebd42e84733dae9898687cfb750fbaf\"]"
   ]
  },
  {
   "cell_type": "code",
   "execution_count": null,
   "id": "ab819436",
   "metadata": {},
   "outputs": [],
   "source": [
    "len(df_medical_5_present_to_be_imputed)"
   ]
  },
  {
   "cell_type": "code",
   "execution_count": null,
   "id": "6b9fd9c0",
   "metadata": {},
   "outputs": [],
   "source": [
    "df_medical_history_5_missing_imputed = pd.merge(df_medical_history_5_missing.loc[:, df_medical_history_5_missing.columns != \"medical_history_5\"], df_medical_5_present_to_be_imputed[[\"id\", \"medical_history_5\"]], on=\"id\", how=\"left\")\n",
    "\n",
    "print(len(df_medical_history_5_missing_imputed))\n",
    "\n",
    "print(len(df_medical_history_5_missing_imputed[df_medical_history_5_missing_imputed[\"medical_history_5\"].isnull()]))\n",
    "\n",
    "df_3 = pd.concat( [df_medical_history_5_missing_imputed, df_medical_history_5_present], ignore_index = True)\n",
    "\n",
    "print( len(df_3) )\n",
    "\n",
    "print( len( df_3[df_3[\"medical_history_5\"].isnull()] ) )"
   ]
  },
  {
   "cell_type": "code",
   "execution_count": null,
   "id": "737229ae",
   "metadata": {},
   "outputs": [],
   "source": [
    "# Impute the rest with the modal class \"0\"\n",
    "df_3.fillna(value={\"medical_history_5\":0}, inplace=True)\n",
    "\n",
    "print(len( df_3[df_3[\"medical_history_5\"].isnull()] ))\n",
    "\n",
    "print(len(df_3))\n",
    "\n",
    "df_3[\"medical_history_2\"] = df_3[\"medical_history_2\"].astype(int)\n",
    "df_3[\"medical_history_5\"] = df_3[\"medical_history_5\"].astype(int)\n",
    "\n",
    "df_3.dtypes"
   ]
  },
  {
   "cell_type": "code",
   "execution_count": null,
   "id": "30560d61",
   "metadata": {},
   "outputs": [],
   "source": [
    "df = df_3.copy()"
   ]
  },
  {
   "cell_type": "markdown",
   "id": "0a22c373",
   "metadata": {
    "id": "0a22c373"
   },
   "source": [
    "# Add features\n",
    "\n",
    "1. ✔️ Age = Current Year - date_of_birth\n",
    "2. ✔️ hospitalisation_duration = date_of_discharge - date_of_admission\n",
    "3. ✔️ hospitalisations_to_date\n",
    "4. 🚧 Lab_result -> Comorbidity."
   ]
  },
  {
   "cell_type": "code",
   "execution_count": null,
   "id": "63694fec",
   "metadata": {},
   "outputs": [],
   "source": [
    "df[\"date_of_admission_year\"] = df[\"date_of_admission\"].dt.year"
   ]
  },
  {
   "cell_type": "code",
   "execution_count": null,
   "id": "42731f94",
   "metadata": {
    "id": "42731f94"
   },
   "outputs": [],
   "source": [
    "df[\"age\"] = df[\"date_of_admission_year\"] - df[\"date_of_birth\"].dt.year"
   ]
  },
  {
   "cell_type": "code",
   "execution_count": null,
   "id": "87eff560",
   "metadata": {
    "id": "87eff560"
   },
   "outputs": [],
   "source": [
    "df[\"hospitalisation_duration\"] = (df[\"date_of_discharge\"] - df[\"date_of_admission\"]).dt.days"
   ]
  },
  {
   "cell_type": "code",
   "execution_count": null,
   "id": "3GCqm81Z-x6U",
   "metadata": {
    "id": "3GCqm81Z-x6U"
   },
   "outputs": [],
   "source": [
    "df.sort_values(by=['date_of_admission'], inplace=True, ascending=True)\n",
    "df[\"hospitalisations_to_date\"] = df.groupby(\"patient_id\").cumcount() + 1"
   ]
  },
  {
   "cell_type": "markdown",
   "id": "d00d86c4",
   "metadata": {
    "id": "d00d86c4"
   },
   "source": [
    "# One Hot Encoding to prepare the data"
   ]
  },
  {
   "cell_type": "code",
   "execution_count": null,
   "id": "62cd6bef",
   "metadata": {
    "id": "62cd6bef"
   },
   "outputs": [],
   "source": [
    "#Gender\n",
    "for col, col_data in df.iteritems():\n",
    "    if str(col)=='gender':\n",
    "        col_data = pd.get_dummies(col_data, prefix = col)\n",
    "        df = df.join(col_data)"
   ]
  },
  {
   "cell_type": "code",
   "execution_count": null,
   "id": "681ffe7f",
   "metadata": {
    "id": "681ffe7f"
   },
   "outputs": [],
   "source": [
    "#Race\n",
    "for col, col_data in df.iteritems():\n",
    "    if str(col)=='race':\n",
    "        col_data = pd.get_dummies(col_data, prefix = col)\n",
    "        df = df.join(col_data)"
   ]
  },
  {
   "cell_type": "code",
   "execution_count": null,
   "id": "69f99254",
   "metadata": {
    "id": "69f99254"
   },
   "outputs": [],
   "source": [
    "#resident_status\n",
    "for col, col_data in df.iteritems():\n",
    "    if str(col)=='resident_status':\n",
    "        col_data = pd.get_dummies(col_data, prefix = col)\n",
    "        df = df.join(col_data)"
   ]
  },
  {
   "cell_type": "code",
   "execution_count": null,
   "id": "utC8Ex5QWtM3",
   "metadata": {
    "id": "utC8Ex5QWtM3"
   },
   "outputs": [],
   "source": [
    "df[\"log_amount\"] = np.log(df[\"amount\"])"
   ]
  },
  {
   "cell_type": "code",
   "execution_count": null,
   "id": "KFq6DdufVYzM",
   "metadata": {
    "id": "KFq6DdufVYzM"
   },
   "outputs": [],
   "source": [
    "dataframe_order = ['date_of_admission_year',\n",
    "                   'age', 'weight', 'height', \n",
    "                   'hospitalisation_duration', 'hospitalisations_to_date', \n",
    "                   'gender_Female', 'gender_Male',\n",
    "                   'race_Chinese', 'race_Indian', 'race_Malay', 'race_Others',\n",
    "                   'resident_status_Foreigner', 'resident_status_PR', 'resident_status_Singaporean',\n",
    "                   'medical_history_1', 'medical_history_2', 'medical_history_3', 'medical_history_4', 'medical_history_5',\n",
    "                   'medical_history_6', 'medical_history_7', \n",
    "                   'preop_medication_1', 'preop_medication_2', 'preop_medication_3', 'preop_medication_4', 'preop_medication_5', 'preop_medication_6',\n",
    "                   'symptom_1', 'symptom_2', 'symptom_3', 'symptom_4', 'symptom_5', \n",
    "                   'lab_result_1', 'lab_result_2', 'lab_result_3', \n",
    "                   'log_amount']\n",
    "data = df[dataframe_order].copy()"
   ]
  },
  {
   "cell_type": "markdown",
   "id": "ab5a3743",
   "metadata": {
    "id": "ab5a3743"
   },
   "source": [
    "# Preliminary Analysis\n",
    "0. Distribution of the cost on an annual basis.\n",
    "1. Average annual cost per person. \n",
    "- To examine the growth of cost.\n"
   ]
  },
  {
   "cell_type": "code",
   "execution_count": null,
   "id": "c2b0b02f",
   "metadata": {},
   "outputs": [],
   "source": [
    "ax = sns.distplot( df[\"age\"])"
   ]
  },
  {
   "cell_type": "code",
   "execution_count": null,
   "id": "4a07c0bc",
   "metadata": {},
   "outputs": [],
   "source": [
    "ax = sns.distplot( df[\"weight\"])"
   ]
  },
  {
   "cell_type": "code",
   "execution_count": null,
   "id": "e497e8cf",
   "metadata": {},
   "outputs": [],
   "source": [
    "ax = sns.distplot( df[\"height\"])"
   ]
  },
  {
   "cell_type": "code",
   "execution_count": null,
   "id": "93857d74",
   "metadata": {},
   "outputs": [],
   "source": [
    "ax = sns.distplot( df[\"hospitalisation_duration\"])"
   ]
  },
  {
   "cell_type": "code",
   "execution_count": null,
   "id": "f795c133",
   "metadata": {},
   "outputs": [],
   "source": [
    "ax = sns.displot( df[\"hospitalisations_to_date\"])"
   ]
  },
  {
   "cell_type": "code",
   "execution_count": null,
   "id": "65c327cf",
   "metadata": {},
   "outputs": [],
   "source": [
    "ax = sns.distplot( df[\"lab_result_1\"])"
   ]
  },
  {
   "cell_type": "code",
   "execution_count": null,
   "id": "b1c3bd3d",
   "metadata": {},
   "outputs": [],
   "source": [
    "ax = sns.distplot( df[\"lab_result_2\"])"
   ]
  },
  {
   "cell_type": "code",
   "execution_count": null,
   "id": "1f225d74",
   "metadata": {},
   "outputs": [],
   "source": [
    "ax = sns.distplot( df[\"lab_result_3\"])"
   ]
  },
  {
   "cell_type": "code",
   "execution_count": null,
   "id": "29c58f48",
   "metadata": {
    "id": "29c58f48"
   },
   "outputs": [],
   "source": [
    "ax = sns.displot( df[\"amount\"])"
   ]
  },
  {
   "cell_type": "code",
   "execution_count": null,
   "id": "8901305c",
   "metadata": {
    "id": "8901305c"
   },
   "outputs": [],
   "source": [
    "ax = sns.displot( np.log( df[\"amount\"] ) )"
   ]
  },
  {
   "cell_type": "code",
   "execution_count": null,
   "id": "8f2c6066",
   "metadata": {
    "id": "8f2c6066"
   },
   "outputs": [],
   "source": [
    "ax = sns.displot(data=df, x=\"amount\", hue=\"gender\", log_scale=True )"
   ]
  },
  {
   "cell_type": "code",
   "execution_count": null,
   "id": "854a4fa9",
   "metadata": {
    "id": "854a4fa9"
   },
   "outputs": [],
   "source": [
    "ax = sns.displot(data=df, x=\"amount\", hue=\"race\", log_scale=True )"
   ]
  },
  {
   "cell_type": "code",
   "execution_count": null,
   "id": "051f8079",
   "metadata": {
    "id": "051f8079"
   },
   "outputs": [],
   "source": [
    "ax = sns.displot(data=df, x=\"amount\", hue=\"resident_status\", log_scale=True )"
   ]
  },
  {
   "cell_type": "code",
   "execution_count": null,
   "id": "2f4dd0db",
   "metadata": {},
   "outputs": [],
   "source": [
    "ax = sns.displot(data=df, x=\"amount\", hue=\"medical_history_1\", log_scale=True )"
   ]
  },
  {
   "cell_type": "code",
   "execution_count": null,
   "id": "8fa83b62",
   "metadata": {},
   "outputs": [],
   "source": [
    "ax = sns.displot(data=df, x=\"amount\", hue=\"medical_history_2\", log_scale=True )"
   ]
  },
  {
   "cell_type": "code",
   "execution_count": null,
   "id": "06155c90",
   "metadata": {},
   "outputs": [],
   "source": [
    "ax = sns.displot(data=df, x=\"amount\", hue=\"medical_history_3\", log_scale=True )"
   ]
  },
  {
   "cell_type": "code",
   "execution_count": null,
   "id": "4cfd0ea3",
   "metadata": {},
   "outputs": [],
   "source": [
    "ax = sns.displot(data=df, x=\"amount\", hue=\"medical_history_4\", log_scale=True )"
   ]
  },
  {
   "cell_type": "code",
   "execution_count": null,
   "id": "4075d8b5",
   "metadata": {},
   "outputs": [],
   "source": [
    "ax = sns.displot(data=df, x=\"amount\", hue=\"medical_history_5\", log_scale=True )"
   ]
  },
  {
   "cell_type": "code",
   "execution_count": null,
   "id": "c59ed6f5",
   "metadata": {},
   "outputs": [],
   "source": [
    "ax = sns.displot(data=df, x=\"amount\", hue=\"medical_history_6\", log_scale=True )"
   ]
  },
  {
   "cell_type": "code",
   "execution_count": null,
   "id": "47822e76",
   "metadata": {},
   "outputs": [],
   "source": [
    "ax = sns.displot(data=df, x=\"amount\", hue=\"medical_history_7\", log_scale=True )"
   ]
  },
  {
   "cell_type": "code",
   "execution_count": null,
   "id": "0f39f59b",
   "metadata": {},
   "outputs": [],
   "source": [
    "ax = sns.displot(data=df, x=\"amount\", hue=\"preop_medication_1\", log_scale=True )"
   ]
  },
  {
   "cell_type": "code",
   "execution_count": null,
   "id": "bd93c8b2",
   "metadata": {},
   "outputs": [],
   "source": [
    "ax = sns.displot(data=df, x=\"amount\", hue=\"preop_medication_2\", log_scale=True )"
   ]
  },
  {
   "cell_type": "code",
   "execution_count": null,
   "id": "66f05b66",
   "metadata": {},
   "outputs": [],
   "source": [
    "ax = sns.displot(data=df, x=\"amount\", hue=\"preop_medication_3\", log_scale=True )"
   ]
  },
  {
   "cell_type": "code",
   "execution_count": null,
   "id": "f9bdc63a",
   "metadata": {},
   "outputs": [],
   "source": [
    "ax = sns.displot(data=df, x=\"amount\", hue=\"preop_medication_4\", log_scale=True )"
   ]
  },
  {
   "cell_type": "code",
   "execution_count": null,
   "id": "dfbacaa4",
   "metadata": {},
   "outputs": [],
   "source": [
    "ax = sns.displot(data=df, x=\"amount\", hue=\"preop_medication_5\", log_scale=True )"
   ]
  },
  {
   "cell_type": "code",
   "execution_count": null,
   "id": "1d568451",
   "metadata": {},
   "outputs": [],
   "source": [
    "ax = sns.displot(data=df, x=\"amount\", hue=\"preop_medication_6\", log_scale=True )"
   ]
  },
  {
   "cell_type": "code",
   "execution_count": null,
   "id": "3d6fd010",
   "metadata": {},
   "outputs": [],
   "source": [
    "ax = sns.displot(data=df, x=\"amount\", hue=\"symptom_1\", log_scale=True )"
   ]
  },
  {
   "cell_type": "code",
   "execution_count": null,
   "id": "4e98aef0",
   "metadata": {},
   "outputs": [],
   "source": [
    "ax = sns.displot(data=df, x=\"amount\", hue=\"symptom_2\", log_scale=True )"
   ]
  },
  {
   "cell_type": "code",
   "execution_count": null,
   "id": "08ea0e32",
   "metadata": {},
   "outputs": [],
   "source": [
    "ax = sns.displot(data=df, x=\"amount\", hue=\"symptom_3\", log_scale=True )"
   ]
  },
  {
   "cell_type": "code",
   "execution_count": null,
   "id": "b64d6dca",
   "metadata": {},
   "outputs": [],
   "source": [
    "ax = sns.displot(data=df, x=\"amount\", hue=\"symptom_4\", log_scale=True )"
   ]
  },
  {
   "cell_type": "code",
   "execution_count": null,
   "id": "24c692ec",
   "metadata": {},
   "outputs": [],
   "source": [
    "ax = sns.displot(data=df, x=\"amount\", hue=\"symptom_5\", log_scale=True )"
   ]
  },
  {
   "cell_type": "markdown",
   "id": "i6rYg65CMsrI",
   "metadata": {
    "id": "i6rYg65CMsrI"
   },
   "source": [
    "# Feature Selection"
   ]
  },
  {
   "cell_type": "markdown",
   "id": "wezjY5n0WTwl",
   "metadata": {
    "id": "wezjY5n0WTwl"
   },
   "source": [
    "## Correlation Heatmap"
   ]
  },
  {
   "cell_type": "code",
   "execution_count": null,
   "id": "56f56842",
   "metadata": {},
   "outputs": [],
   "source": [
    "# Correlation to the amount\n",
    "corrmat = data.corr()\n",
    "top_corr_features = corrmat.index\n",
    "plt.figure(figsize=(20,20))\n",
    "#plot heat map\n",
    "g=sns.heatmap(data[top_corr_features].corr(),annot=True,cmap=\"RdYlGn\")"
   ]
  },
  {
   "cell_type": "markdown",
   "id": "db87e286",
   "metadata": {},
   "source": [
    "# Remove Collinearity"
   ]
  },
  {
   "cell_type": "code",
   "execution_count": null,
   "id": "be950b86",
   "metadata": {},
   "outputs": [],
   "source": [
    "X = df[list(data.columns[:-1])]\n",
    "\n",
    "vif_info = pd.DataFrame()\n",
    "vif_info['VIF'] = [variance_inflation_factor(X.values, i) for i in range(X.shape[1])]\n",
    "vif_info['Column'] = X.columns\n",
    "vif_info.sort_values('VIF', ascending=False)"
   ]
  },
  {
   "cell_type": "code",
   "execution_count": null,
   "id": "0f580bc3",
   "metadata": {},
   "outputs": [],
   "source": [
    "independent_data = ['age',\n",
    "                    'weight',\n",
    "                    'gender_Male',\n",
    "                    'race_Malay', \n",
    "                    'hospitalisation_duration', \n",
    "                    'hospitalisations_to_date', \n",
    "                    'resident_status_Foreigner',\n",
    "                    'medical_history_1', \n",
    "                    'medical_history_2', \n",
    "                    'medical_history_3', \n",
    "                    'medical_history_4',\n",
    "                    'medical_history_5',\n",
    "                    'medical_history_6', \n",
    "                    'medical_history_7', \n",
    "                   'preop_medication_1', \n",
    "                    'preop_medication_2', \n",
    "                    'preop_medication_3',\n",
    "                    'preop_medication_4',\n",
    "                    'preop_medication_5', \n",
    "                    'preop_medication_6',\n",
    "                   'symptom_1', \n",
    "                    'symptom_2',\n",
    "                    'symptom_3',\n",
    "                    'symptom_4', \n",
    "                    'symptom_5', \n",
    "                   'log_amount']\n",
    "data_2 = data[independent_data]"
   ]
  },
  {
   "cell_type": "code",
   "execution_count": null,
   "id": "f0432727",
   "metadata": {},
   "outputs": [],
   "source": [
    "X = df[list(data_2.columns[:-1])]\n",
    "\n",
    "vif_info = pd.DataFrame()\n",
    "vif_info['VIF'] = [variance_inflation_factor(X.values, i) for i in range(X.shape[1])]\n",
    "vif_info['Column'] = X.columns\n",
    "vif_info.sort_values('VIF', ascending=False)"
   ]
  },
  {
   "cell_type": "code",
   "execution_count": null,
   "id": "9b88123a",
   "metadata": {},
   "outputs": [],
   "source": [
    "independent_data = ['age',\n",
    "                    'weight',\n",
    "                    'gender_Male',\n",
    "                    'race_Malay', \n",
    "                    'resident_status_Foreigner',\n",
    "                    'medical_history_1', \n",
    "                    'medical_history_2', \n",
    "                    'medical_history_3', \n",
    "                    'medical_history_4',\n",
    "                    'medical_history_5',\n",
    "                    'medical_history_6', \n",
    "                    'medical_history_7', \n",
    "                   'preop_medication_1', \n",
    "                    'preop_medication_2', \n",
    "                    'preop_medication_3',\n",
    "                    'preop_medication_4',\n",
    "                    'preop_medication_5', \n",
    "                    'preop_medication_6',\n",
    "                   'symptom_1', \n",
    "                    'symptom_2',\n",
    "                    'symptom_3',\n",
    "                    'symptom_4', \n",
    "                    'symptom_5', \n",
    "                   'log_amount']\n",
    "data_3 = data[independent_data]"
   ]
  },
  {
   "cell_type": "code",
   "execution_count": null,
   "id": "95b97dbf",
   "metadata": {},
   "outputs": [],
   "source": [
    "X = df[list(data_3.columns[:-1])]\n",
    "\n",
    "vif_info = pd.DataFrame()\n",
    "vif_info['VIF'] = [variance_inflation_factor(X.values, i) for i in range(X.shape[1])]\n",
    "vif_info['Column'] = X.columns\n",
    "vif_info.sort_values('VIF', ascending=False)"
   ]
  },
  {
   "cell_type": "code",
   "execution_count": null,
   "id": "4a1cfcbb",
   "metadata": {},
   "outputs": [],
   "source": [
    "independent_data = ['age',\n",
    "                    'gender_Male',\n",
    "                    'race_Malay', \n",
    "                    'resident_status_Foreigner',\n",
    "                    'medical_history_1', \n",
    "                    'medical_history_2', \n",
    "                    'medical_history_3', \n",
    "                    'medical_history_4',\n",
    "                    'medical_history_5',\n",
    "                    'medical_history_6', \n",
    "                    'medical_history_7', \n",
    "                   'preop_medication_1', \n",
    "                    'preop_medication_2', \n",
    "                    'preop_medication_3',\n",
    "                    'preop_medication_4',\n",
    "                    'preop_medication_5', \n",
    "                    'preop_medication_6',\n",
    "                   'symptom_1', \n",
    "                    'symptom_2',\n",
    "                    'symptom_3',\n",
    "                    'symptom_4', \n",
    "                    'symptom_5', \n",
    "                   'log_amount']\n",
    "data_4 = data[independent_data]"
   ]
  },
  {
   "cell_type": "code",
   "execution_count": null,
   "id": "c5376312",
   "metadata": {},
   "outputs": [],
   "source": [
    "X = df[list(data_4.columns[:-1])]\n",
    "\n",
    "vif_info = pd.DataFrame()\n",
    "vif_info['VIF'] = [variance_inflation_factor(X.values, i) for i in range(X.shape[1])]\n",
    "vif_info['Column'] = X.columns\n",
    "vif_info.sort_values('VIF', ascending=False)"
   ]
  },
  {
   "cell_type": "code",
   "execution_count": null,
   "id": "b4f8e697",
   "metadata": {},
   "outputs": [],
   "source": [
    "independent_data = ['age',\n",
    "                    'race_Malay', \n",
    "                    'resident_status_Foreigner',\n",
    "                    'medical_history_1', \n",
    "                    'medical_history_6', \n",
    "                    'symptom_1', \n",
    "                    'symptom_2',\n",
    "                    'symptom_3',\n",
    "                    'symptom_4', \n",
    "                    'symptom_5', \n",
    "                   'log_amount']\n",
    "data_5 = data[independent_data]"
   ]
  },
  {
   "cell_type": "code",
   "execution_count": null,
   "id": "f27e534f",
   "metadata": {},
   "outputs": [],
   "source": [
    "X = df[list(data_5.columns[:-1])]\n",
    "\n",
    "vif_info = pd.DataFrame()\n",
    "vif_info['VIF'] = [variance_inflation_factor(X.values, i) for i in range(X.shape[1])]\n",
    "vif_info['Column'] = X.columns\n",
    "vif_info.sort_values('VIF', ascending=False)"
   ]
  },
  {
   "cell_type": "code",
   "execution_count": null,
   "id": "f1a25b82",
   "metadata": {},
   "outputs": [],
   "source": [
    "independent_data = ['age',\n",
    "                    'race_Chinese', \n",
    "                    'race_Malay', \n",
    "                    'resident_status_Foreigner',\n",
    "                    'resident_status_Singaporean',\n",
    "                    'medical_history_1', \n",
    "                    'symptom_3',\n",
    "                    'symptom_5', \n",
    "                   'log_amount']\n",
    "data_6 = data[independent_data]"
   ]
  },
  {
   "cell_type": "code",
   "execution_count": null,
   "id": "a9d3c717",
   "metadata": {},
   "outputs": [],
   "source": [
    "X = df[list(data_6.columns[:-1])]\n",
    "\n",
    "vif_info = pd.DataFrame()\n",
    "vif_info['VIF'] = [variance_inflation_factor(X.values, i) for i in range(X.shape[1])]\n",
    "vif_info['Column'] = X.columns\n",
    "vif_info.sort_values('VIF', ascending=False)"
   ]
  },
  {
   "cell_type": "code",
   "execution_count": null,
   "id": "5e2f6095",
   "metadata": {},
   "outputs": [],
   "source": [
    "independent_data = ['age',\n",
    "                    'race_Chinese', \n",
    "                    'race_Malay', \n",
    "                    'resident_status_Foreigner',\n",
    "                    'resident_status_Singaporean',\n",
    "                    'symptom_3',\n",
    "                    'symptom_5', \n",
    "                   'log_amount']\n",
    "data_7 = data[independent_data]"
   ]
  },
  {
   "cell_type": "code",
   "execution_count": null,
   "id": "d40747ef",
   "metadata": {},
   "outputs": [],
   "source": [
    "X = df[list(data_7.columns[:-1])]\n",
    "\n",
    "vif_info = pd.DataFrame()\n",
    "vif_info['VIF'] = [variance_inflation_factor(X.values, i) for i in range(X.shape[1])]\n",
    "vif_info['Column'] = X.columns\n",
    "vif_info.sort_values('VIF', ascending=False)"
   ]
  },
  {
   "cell_type": "code",
   "execution_count": null,
   "id": "a47545dc",
   "metadata": {
    "id": "a47545dc"
   },
   "outputs": [],
   "source": [
    "X = data_4.drop(['log_amount'],axis=1)\n",
    "y = data_4[['log_amount']]"
   ]
  },
  {
   "cell_type": "code",
   "execution_count": null,
   "id": "a86c46f5",
   "metadata": {},
   "outputs": [],
   "source": [
    "X_1 = data_5.drop(['log_amount'],axis=1)\n",
    "y_1 = data_5[['log_amount']]"
   ]
  },
  {
   "cell_type": "code",
   "execution_count": null,
   "id": "0ae8a97c",
   "metadata": {},
   "outputs": [],
   "source": [
    "X_2 = data_6.drop(['log_amount'],axis=1)\n",
    "y_2 = data_6[['log_amount']]"
   ]
  },
  {
   "cell_type": "code",
   "execution_count": null,
   "id": "bbf193df",
   "metadata": {},
   "outputs": [],
   "source": [
    "X_3 = data_7.drop(['log_amount'],axis=1)\n",
    "y_3 = data_7[['log_amount']]"
   ]
  },
  {
   "cell_type": "markdown",
   "id": "p8OCXhPWM6aI",
   "metadata": {
    "id": "p8OCXhPWM6aI"
   },
   "source": [
    "# Model fitting"
   ]
  },
  {
   "cell_type": "markdown",
   "id": "wL66CExIM9_R",
   "metadata": {
    "id": "wL66CExIM9_R"
   },
   "source": [
    "## Linear Regression"
   ]
  },
  {
   "cell_type": "code",
   "execution_count": null,
   "id": "c831ac9f",
   "metadata": {},
   "outputs": [],
   "source": [
    "# Splitting the data into training and testing data\n",
    "X_train, X_test, y_train, y_test = train_test_split(X, y, test_size = 0.25, random_state=1)\n",
    "results = sm.OLS(y_train, X_train).fit()\n",
    "\n",
    "# Predict\n",
    "y_pred = results.predict(X_test)\n",
    "\n",
    "# Metrics\n",
    "print(\"R squared (bigger is better):\", results.rsquared)\n",
    "print(\"R squared adjusted (bigger is better):\", results.rsquared_adj)\n",
    "print(\"RMSE (smaller is better):\", np.sqrt(metrics.mean_squared_error(y_test, y_pred)))\n",
    "print()\n",
    "print(\"Variable\", \" | \", \"Coefficients\", \" | \", \"p-values\")\n",
    "for attributeIndex in range (0, len(X_train.columns)):\n",
    "    print(X_train.columns[attributeIndex], \" | \",  results.params[attributeIndex], \" | \", results.pvalues[attributeIndex])"
   ]
  },
  {
   "cell_type": "code",
   "execution_count": null,
   "id": "3cf82536",
   "metadata": {},
   "outputs": [],
   "source": [
    "results.summary()"
   ]
  },
  {
   "cell_type": "code",
   "execution_count": null,
   "id": "ee6619a4",
   "metadata": {},
   "outputs": [],
   "source": [
    "# Splitting the data into training and testing data\n",
    "X_train, X_test, y_train, y_test = train_test_split(X_1, y_1, test_size = 0.25, random_state=1)\n",
    "results = sm.OLS(y_train, X_train).fit()\n",
    "\n",
    "# Predict\n",
    "y_pred = results.predict(X_test)\n",
    "\n",
    "# Metrics\n",
    "print(\"R squared (bigger is better):\", results.rsquared)\n",
    "print(\"R squared adjusted (bigger is better):\", results.rsquared_adj)\n",
    "print(\"RMSE (smaller is better):\", np.sqrt(metrics.mean_squared_error(y_test, y_pred)))\n",
    "print()\n",
    "print(\"Variable\", \" | \", \"Coefficients\", \" | \", \"p-values\")\n",
    "for attributeIndex in range (0, len(X_train.columns)):\n",
    "    print(X_train.columns[attributeIndex], \" | \",  results.params[attributeIndex], \" | \", results.pvalues[attributeIndex])"
   ]
  },
  {
   "cell_type": "code",
   "execution_count": null,
   "id": "e7e9ba86",
   "metadata": {},
   "outputs": [],
   "source": [
    "results.summary()"
   ]
  },
  {
   "cell_type": "code",
   "execution_count": null,
   "id": "0a9092a3",
   "metadata": {},
   "outputs": [],
   "source": [
    "# Splitting the data into training and testing data\n",
    "X_train, X_test, y_train, y_test = train_test_split(X_2, y_2, test_size = 0.25, random_state=1)\n",
    "results = sm.OLS(y_train, X_train).fit()\n",
    "\n",
    "# Predict\n",
    "y_pred = results.predict(X_test)\n",
    "\n",
    "# Metrics\n",
    "print(\"R squared (bigger is better):\", results.rsquared)\n",
    "print(\"R squared adjusted (bigger is better):\", results.rsquared_adj)\n",
    "print(\"RMSE (smaller is better):\", np.sqrt(metrics.mean_squared_error(y_test, y_pred)))\n",
    "print()\n",
    "print(\"Variable\", \" | \", \"Coefficients\", \" | \", \"p-values\")\n",
    "for attributeIndex in range (0, len(X_train.columns)):\n",
    "    print(X_train.columns[attributeIndex], \" | \",  results.params[attributeIndex], \" | \", results.pvalues[attributeIndex])"
   ]
  },
  {
   "cell_type": "code",
   "execution_count": null,
   "id": "a04cc6cf",
   "metadata": {},
   "outputs": [],
   "source": [
    "results.summary()"
   ]
  },
  {
   "cell_type": "code",
   "execution_count": null,
   "id": "c9cc8ccc",
   "metadata": {},
   "outputs": [],
   "source": [
    "# Splitting the data into training and testing data\n",
    "X_train, X_test, y_train, y_test = train_test_split(X_3, y_3, test_size = 0.25, random_state=1)\n",
    "results = sm.OLS(y_train, X_train).fit()\n",
    "\n",
    "# Predict\n",
    "y_pred = results.predict(X_test)\n",
    "\n",
    "# Metrics\n",
    "print(\"R squared (bigger is better):\", results.rsquared)\n",
    "print(\"R squared adjusted (bigger is better):\", results.rsquared_adj)\n",
    "print(\"RMSE (smaller is better):\", np.sqrt(metrics.mean_squared_error(y_test, y_pred)))\n",
    "print()\n",
    "print(\"Variable\", \" | \", \"Coefficients\", \" | \", \"p-values\")\n",
    "for attributeIndex in range (0, len(X_train.columns)):\n",
    "    print(X_train.columns[attributeIndex], \" | \",  results.params[attributeIndex], \" | \", results.pvalues[attributeIndex])"
   ]
  },
  {
   "cell_type": "code",
   "execution_count": null,
   "id": "2110b125",
   "metadata": {},
   "outputs": [],
   "source": [
    "results.summary()"
   ]
  }
 ],
 "metadata": {
  "colab": {
   "collapsed_sections": [
    "ab5a3743",
    "0a22c373",
    "d00d86c4",
    "i6rYg65CMsrI",
    "wezjY5n0WTwl",
    "QwBxRzAIUf6l",
    "p8OCXhPWM6aI",
    "wL66CExIM9_R",
    "xwsSfeovMDSb"
   ],
   "name": "Code - H",
   "private_outputs": true,
   "provenance": [],
   "toc_visible": true
  },
  "kernelspec": {
   "display_name": "Python 3",
   "language": "python",
   "name": "python3"
  },
  "language_info": {
   "codemirror_mode": {
    "name": "ipython",
    "version": 3
   },
   "file_extension": ".py",
   "mimetype": "text/x-python",
   "name": "python",
   "nbconvert_exporter": "python",
   "pygments_lexer": "ipython3",
   "version": "3.8.8"
  }
 },
 "nbformat": 4,
 "nbformat_minor": 5
}
